{
 "cells": [
  {
   "cell_type": "markdown",
   "metadata": {},
   "source": [
    "# Neural networks with PyTorch\n",
    "##WAQR AHMED\n",
    "\n",
    "\n",
    "Deep learning networks tend to be massive with dozens or hundreds of layers, that's where the term \"deep\" comes from. You can build one of these deep networks using only weight matrices as we did in the previous notebook, but in general it's very cumbersome and difficult to implement. PyTorch has a nice module `nn` that provides a nice way to efficiently build large neural networks."
   ]
  },
  {
   "cell_type": "code",
   "execution_count": 8,
   "metadata": {},
   "outputs": [],
   "source": [
    "# Import necessary packages\n",
    "\n",
    "%matplotlib inline\n",
    "%config InlineBackend.figure_format = 'retina'\n",
    "\n",
    "import numpy as np\n",
    "import torch\n",
    "\n",
    "import helper\n",
    "\n",
    "import matplotlib.pyplot as plt"
   ]
  },
  {
   "cell_type": "markdown",
   "metadata": {},
   "source": [
    "\n",
    "Now we're going to build a larger network that can solve a (formerly) difficult problem, identifying text in an image. Here we'll use the MNIST dataset which consists of greyscale handwritten digits. Each image is 28x28 pixels, you can see a sample below\n",
    "\n",
    "<img src='assets/mnist.png'>\n",
    "\n",
    "Our goal is to build a neural network that can take one of these images and predict the digit in the image.\n",
    "\n",
    "First up, we need to get our dataset. This is provided through the `torchvision` package. The code below will download the MNIST dataset, then create training and test datasets for us. Don't worry too much about the details here, you'll learn more about this later."
   ]
  },
  {
   "cell_type": "code",
   "execution_count": 9,
   "metadata": {},
   "outputs": [],
   "source": [
    "### Run this cell\n",
    "\n",
    "from torchvision import datasets, transforms\n",
    "\n",
    "# Define a transform to normalize the data\n",
    "transform = transforms.Compose([transforms.ToTensor(),\n",
    "                              transforms.Normalize((0.5,), (0.5,)),\n",
    "                              ])\n",
    "\n",
    "# Download and load the training data\n",
    "trainset = datasets.MNIST('~/.pytorch/MNIST_data/', download=True, train=True, transform=transform)\n",
    "trainloader = torch.utils.data.DataLoader(trainset, batch_size=64, shuffle=True)"
   ]
  },
  {
   "cell_type": "markdown",
   "metadata": {},
   "source": [
    "We have the training data loaded into `trainloader` and we make that an iterator with `iter(trainloader)`. Later, we'll use this to loop through the dataset for training, like\n",
    "\n",
    "```python\n",
    "for image, label in trainloader:\n",
    "    ## do things with images and labels\n",
    "```\n",
    "\n",
    "You'll notice I created the `trainloader` with a batch size of 64, and `shuffle=True`. The batch size is the number of images we get in one iteration from the data loader and pass through our network, often called a *batch*. And `shuffle=True` tells it to shuffle the dataset every time we start going through the data loader again. But here I'm just grabbing the first batch so we can check out the data. We can see below that `images` is just a tensor with size `(64, 1, 28, 28)`. So, 64 images per batch, 1 color channel, and 28x28 images."
   ]
  },
  {
   "cell_type": "code",
   "execution_count": 10,
   "metadata": {},
   "outputs": [
    {
     "name": "stdout",
     "output_type": "stream",
     "text": [
      "<class 'torch.Tensor'>\n",
      "torch.Size([64, 1, 28, 28])\n",
      "torch.Size([64])\n"
     ]
    }
   ],
   "source": [
    "dataiter = iter(trainloader)\n",
    "images, labels = dataiter.next()\n",
    "print(type(images))\n",
    "print(images.shape)\n",
    "print(labels.shape)"
   ]
  },
  {
   "cell_type": "markdown",
   "metadata": {},
   "source": [
    "This is what one of the images looks like. "
   ]
  },
  {
   "cell_type": "code",
   "execution_count": 11,
   "metadata": {},
   "outputs": [
    {
     "data": {
      "image/png": "[encoded data removed]",
      "text/plain": [
       "<Figure size 432x288 with 1 Axes>"
      ]
     },
     "metadata": {
      "image/png": {
       "height": 250,
       "width": 253
      },
      "needs_background": "light"
     },
     "output_type": "display_data"
    }
   ],
   "source": [
    "plt.imshow(images[1].numpy().squeeze(), cmap='Greys_r');"
   ]
  },
  {
   "cell_type": "markdown",
   "metadata": {},
   "source": [
    "First, let's try to build a simple network for this dataset using weight matrices and matrix multiplications. Then, we'll see how to do it using PyTorch's `nn` module which provides a much more convenient and powerful method for defining network architectures.\n",
    "\n",
    "The networks you've seen so far are called *fully-connected* or *dense* networks. Each unit in one layer is connected to each unit in the next layer. In fully-connected networks, the input to each layer must be a one-dimensional vector (which can be stacked into a 2D tensor as a batch of multiple examples). However, our images are 28x28 2D tensors, so we need to convert them into 1D vectors. Thinking about sizes, we need to convert the batch of images with shape `(64, 1, 28, 28)` to a have a shape of `(64, 784)`, 784 is 28 times 28. This is typically called *flattening*, we flattened the 2D images into 1D vectors.\n",
    "\n",
    "Previously you built a network with one output unit. Here we need 10 output units, one for each digit. We want our network to predict the digit shown in an image, so what we'll do is calculate probabilities that the image is of any one digit or class. This ends up being a discrete probability distribution over the classes (digits) that tells us the most likely class for the image. That means we need 10 output units for the 10 classes (digits). We'll see how to convert the network output into a probability distribution next.\n",
    "\n",
    "> **Exercise:** Flatten the batch of images `images`. Then build a multi-layer network with 784 input units, 256 hidden units, and 10 output units using random tensors for the weights and biases. For now, use a sigmoid activation for the hidden layer. Leave the output layer without an activation, we'll add one that gives us a probability distribution next."
   ]
  },
  {
   "cell_type": "code",
   "execution_count": 16,
   "metadata": {},
   "outputs": [
    {
     "name": "stdout",
     "output_type": "stream",
     "text": [
      "64\n",
      "tensor([[ 18.1440,   7.5808,   0.3003,  17.5402,   1.1010,  -7.8325,  -1.9183,\n",
      "          -5.4460,  10.6580,  11.3305],\n",
      "        [ 11.6655,   8.4225,  -0.5293,   4.7351,  10.2001, -11.6382,   9.1022,\n",
      "          -7.0772,  -5.1264,  15.6172],\n",
      "        [ 12.2173,   1.0184,   0.5352,  11.8660,   5.8986,  -3.2062,  -2.7138,\n",
      "          -0.7330,   9.7123,   6.6348],\n",
      "        [  5.9621,  12.3445,  -4.8031,  13.9572, -11.5211,  -2.7437, -11.7494,\n",
      "          -8.4858,   2.3089,  14.9633],\n",
      "        [  7.0380,   9.1485,   0.2038,  19.1029,   3.3579,  -1.9997,  -8.3670,\n",
      "          -3.5648,  13.8166,  11.7828],\n",
      "        [ 11.4514,   2.0055,  -0.5025,  11.6115,  -9.0631,  -7.2529,   2.0299,\n",
      "           2.5632,  14.4583,   8.1033],\n",
      "        [ 16.0061,   8.2089,  -5.4941,  13.3990,   6.3990,  -7.2741, -11.5350,\n",
      "           1.6220,   2.3941,  10.1317],\n",
      "        [  9.0964,   9.8218,   6.1589,   6.4255,  10.4425,  -1.5348,  -1.5845,\n",
      "           0.8785,   6.5841,   2.8402],\n",
      "        [ 12.7299,  -0.3532, -10.6472,  18.4683,  -3.0673,  -0.6295,  -3.4722,\n",
      "           7.3759,  16.6554,  11.1167],\n",
      "        [ 14.7307,  10.1079,  -3.2469,   1.5353,   5.0180,  -8.8032,  -3.5572,\n",
      "          -1.6390,  11.3115,   4.7159],\n",
      "        [ 20.5176,   0.5175,  -9.1537,  23.1974,  -2.3399,  -1.1092,   1.1417,\n",
      "           1.5986,  19.8057,   8.9290],\n",
      "        [ 15.9577,   9.9302,   2.7958,   0.2670,   8.1539, -13.7813,   1.6630,\n",
      "           4.4090,  12.2718,  12.0671],\n",
      "        [ 11.8157,   3.0359, -10.1305,  21.7240, -10.7783,   1.4368,  -8.2625,\n",
      "           1.4064,  10.7436,   8.2326],\n",
      "        [ 14.8489,  14.1405,   1.3173,  11.5787,  -3.3048,  -7.2781,   3.3032,\n",
      "          -9.3621,  -1.9049,  10.3534],\n",
      "        [ 11.4181,  16.6924,  -4.1031,  12.6449,  -2.5320,  -5.7502,  -5.8020,\n",
      "           8.5190,   2.4516,   0.7441],\n",
      "        [ 14.0554,   9.6577,  -5.9050,  22.7006,  -3.8112,  -5.6093,  -8.9903,\n",
      "          -8.6274,   7.7981,  14.1789],\n",
      "        [  4.2952,  18.3415,   3.0738,   8.0756,  -8.5991, -13.9799,  -3.1245,\n",
      "          -0.0328,   1.7368,  25.1945],\n",
      "        [  3.0544,   1.6844,  -4.2007,  10.7711,  -8.1049,  -6.3935,  -6.3298,\n",
      "          -5.0012,  13.3792,   9.8860],\n",
      "        [ 22.3239,   2.6798,  -1.5563,  16.5989,   4.3014,  -3.5906,  -7.4512,\n",
      "          -0.4078,  11.5355,  18.3377],\n",
      "        [ 16.2776,   9.0274,  -5.8200,  26.6090,  -4.8104, -12.5278,  -8.8783,\n",
      "          -1.0562,  17.2131,  15.7169],\n",
      "        [  5.8632,  -1.7341,   0.8215,   8.3083,  -4.1016,   2.5572,  -3.1551,\n",
      "           6.2526,   8.9390,  22.6925],\n",
      "        [ 10.0604,   5.3022,  -3.0812,  14.9061,  -0.7966,  -7.5492,   0.5782,\n",
      "          -1.7743,  11.5312,  14.8506],\n",
      "        [ 16.9492,  15.3748,   5.9485,   6.4065,   6.6917,   3.8214,  -1.0776,\n",
      "          -1.4846,   2.0716,  17.7879],\n",
      "        [ 13.2705,  16.7870,  -3.8744,  14.5009,  -3.2863, -10.2046, -12.8542,\n",
      "         -10.8903,   7.4299,   8.2060],\n",
      "        [ 19.0143,   6.6323,  -2.1046,  13.2744,  -7.0686, -14.1137,  -3.1203,\n",
      "           1.0090,  10.9945,  19.9017],\n",
      "        [  6.3267,  -4.7967,   5.3619,  12.9874, -10.7767,  -6.3126, -13.9805,\n",
      "           2.1326,  20.0508,   7.0036],\n",
      "        [ 13.2485,  -0.3026,  -5.9448,  13.9008,  -8.5517, -11.7988,   2.6741,\n",
      "          -0.2205,   1.3310,  11.9272],\n",
      "        [  6.1847,  -1.5263,   4.5649,   8.7762,  -5.8759,  -4.8829,   1.8998,\n",
      "           0.3109,   6.8778,   9.4233],\n",
      "        [ 17.4656,   3.3837,  -1.0547,   2.2622,  -1.1081, -12.3220,   4.8226,\n",
      "          -2.9381,  11.9243,   6.3623],\n",
      "        [ 15.5971,  16.1620,   2.8929,   8.7438,   8.3491,  -2.1012,   2.4999,\n",
      "          -2.9597,   0.4860,  16.0048],\n",
      "        [  3.8007,  -5.3161,  10.6801,   3.6985,   4.3108, -13.1572,   2.2919,\n",
      "          -6.1167,  -1.2536,  19.8175],\n",
      "        [  8.9548,   0.4537,   5.8462,   6.8945,  -7.2360, -15.7168,   8.2602,\n",
      "           1.1095,   2.4094,  18.9820],\n",
      "        [  3.8272,   3.4716,  -7.4160,   8.9982,   7.1944,  -6.7321, -12.3080,\n",
      "         -10.3416,  -1.4319,  10.8097],\n",
      "        [ 19.0254,   4.1614,  -2.2844,  26.4128,  10.4121,  -1.9222,  -8.5506,\n",
      "          -4.8110,   9.9535,  15.9442],\n",
      "        [  6.9782,  20.1647,  -3.9866,   8.1779,   9.5810,  -5.8947,   0.7620,\n",
      "          -5.0838,   7.8251,  15.7303],\n",
      "        [  5.8885,   5.2955,   8.2557,  -1.8721,   1.6764, -15.0117,  -0.0296,\n",
      "          -6.9115,   2.5441,  21.8132],\n",
      "        [ 17.4317,   9.5522,   1.1807,   9.3709,   0.6635, -15.1827,   2.7119,\n",
      "           0.4946,   8.0092,   7.7964],\n",
      "        [ 13.7475,  11.3110,   5.8188,   7.9221,  -6.9805, -13.8417,  -1.7365,\n",
      "           3.9584,  10.3840,   4.1119],\n",
      "        [  4.7048,  -7.0074,  -4.7708,  10.6131,   0.0479,   0.5112,  -3.5955,\n",
      "           6.0020,   7.9358,  17.5328],\n",
      "        [ 12.2998,  12.7753,  -0.4471,  13.8349, -10.3751,  -8.1352,  -4.1652,\n",
      "          -7.1695,  15.0420,   6.7165],\n",
      "        [  5.5740,  -7.3048,  -5.0322,  14.8691,  12.6323, -10.0404,  -0.9655,\n",
      "          -0.8336,   1.0095,  14.5327],\n",
      "        [ 14.0542,   9.0094,   0.4385,   3.9793,  10.6755,  -4.7543,   1.6257,\n",
      "           2.7881,   7.2443,  19.3320],\n",
      "        [  7.2174,  -7.7575,   0.5414,  11.4778,   1.2008,  -0.9365,  -1.4929,\n",
      "          -9.8421,  -5.2970,  20.2183],\n",
      "        [ 14.7608,  10.5908,   3.2803,  10.4682,   6.0711, -14.0407,  -1.9289,\n",
      "          -5.4194, -10.5663,  17.6416],\n",
      "        [  7.1946,  -3.3701,  -0.2895,  11.7384,  -0.8848,  -8.8315,   2.4968,\n",
      "           4.0580,  10.6131,  20.8641],\n",
      "        [ 12.7427,  14.4861,   6.5064,  18.7298,   2.4013,  -8.7318,   2.8613,\n",
      "          -8.1785,  -2.6745,  13.7920],\n",
      "        [ 11.2858,  12.9787,   6.3921,  22.9830,  -4.1669,  -8.3065,  -5.0953,\n",
      "          -6.6984,  11.2659,  13.1807],\n",
      "        [ 16.6343,  10.8974,  -9.1985,  11.1297,  10.8927, -13.7497, -11.2010,\n",
      "           3.9038,  16.7760,  12.1753],\n",
      "        [ 10.5721,  12.6502,   2.7389,   7.7901,   1.2132,  -6.4480,   0.3932,\n",
      "          -5.4142,   0.8468,  10.0759],\n",
      "        [ 11.3969,  11.9294,   1.9352,  16.2344,  -1.3116, -10.9264,  -2.1304,\n",
      "          -2.0156,   4.6426,   1.2979],\n",
      "        [ 10.1174,   5.3939,   4.4889,  19.8491,  -9.6424,   1.7503, -12.7278,\n",
      "          -2.3761,  10.3662,  15.9603],\n",
      "        [  9.9111,  16.8114,  -9.5121,  13.2028,  -7.1997, -11.7779,  -6.2177,\n",
      "         -11.5201,  11.2094,   9.0240],\n",
      "        [ 11.9951,   4.2091,   3.4831,  14.0734,  -0.9662,   4.2227,  -2.6512,\n",
      "          -4.4954,   7.7078,  17.4312],\n",
      "        [ 11.4314,  14.2108,  -0.1110,  17.6782,  -6.2068, -11.9229,  -6.8035,\n",
      "          -3.1598,  11.5026,  10.6730],\n",
      "        [ 13.8319,   1.2923,  -5.8430,   4.1830,  -0.3171, -11.6192,  -6.3591,\n",
      "          -6.9702,  12.5827,  22.2904],\n",
      "        [ 19.8625,   7.5367,   0.4288,   5.6240,   8.5823, -12.9397,   1.8892,\n",
      "          -0.2565,   2.8334,  22.1904],\n",
      "        [  8.2166,  10.5811,   4.9332,   2.4208,   2.5772,  -8.8407,   0.9770,\n",
      "          -6.2453,  -1.0162,   5.2832],\n",
      "        [  9.5294,   4.1924,   0.1090,   7.8679,  -1.4229,  -8.4464,  -0.8360,\n",
      "           3.4352,   6.0050,   7.9482],\n",
      "        [ 11.1681,   8.1632,   7.7070,   4.9395,  -5.2498,  -8.3678,  -7.7161,\n",
      "          -4.4657,  15.0919,   6.9844],\n",
      "        [  6.5880,  11.1180,   4.6572,  11.7332,  -4.0357, -12.9982,  -6.5244,\n",
      "          -1.7564,   8.9613,  13.9571],\n",
      "        [ 12.0540,   1.2824,   7.4321,  14.4739,  -4.0273,  -1.0989,  -2.4578,\n",
      "           4.4651,   9.7860,  -1.6786],\n",
      "        [ 12.3646,   0.1200,  -6.5081,   8.8312,   7.1495,  -2.8288,  -7.3359,\n",
      "           2.4107,   4.5443,  17.0171],\n",
      "        [  8.2005,   9.6031,  -1.6967,  19.7170,  -0.2175,  -8.5774, -21.0021,\n",
      "           2.6183,  12.2445,  14.2583],\n",
      "        [ 11.7679,   8.8576,  10.2000,  11.3495,   0.0338,  -6.2452,  -4.7879,\n",
      "          -3.8773,   9.3138,   7.8285]])\n",
      "torch.Size([64, 10])\n"
     ]
    }
   ],
   "source": [
    "## Your solution\n",
    "import torch\n",
    "def activation(x):\n",
    "    return 1/(1+torch.exp(-x))\n",
    "inputs=images.view(images.shape[0],-1)\n",
    "print((images.shape[0]))\n",
    "\n",
    "w1=torch.randn(784,256)\n",
    "b1=torch.randn(256)\n",
    "w2=torch.randn(256,10)\n",
    "b2=torch.randn(10)\n",
    "h=activation(inputs@w1+b1)\n",
    "out = h@w2+b2\n",
    "print(out)\n",
    "print(out.shape)\n"
   ]
  },
  {
   "cell_type": "markdown",
   "metadata": {},
   "source": [
    "Now we have 10 outputs for our network. We want to pass in an image to our network and get out a probability distribution over the classes that tells us the likely class(es) the image belongs to. Something that looks like this:\n",
    "<img src='assets/image_distribution.png' width=500px>\n",
    "\n",
    "Here we see that the probability for each class is roughly the same. This is representing an untrained network, it hasn't seen any data yet so it just returns a uniform distribution with equal probabilities for each class.\n",
    "\n",
    "To calculate this probability distribution, we often use the [**softmax** function](https://en.wikipedia.org/wiki/Softmax_function). Mathematically this looks like\n",
    "\n",
    "$$\n",
    "\\Large \\sigma(x_i) = \\cfrac{e^{x_i}}{\\sum_k^K{e^{x_k}}}\n",
    "$$\n",
    "\n",
    "What this does is squish each input $x_i$ between 0 and 1 and normalizes the values to give you a proper probability distribution where the probabilites sum up to one.\n",
    "\n",
    "> **Exercise:** Implement a function `softmax` that performs the softmax calculation and returns probability distributions for each example in the batch. Note that you'll need to pay attention to the shapes when doing this. If you have a tensor `a` with shape `(64, 10)` and a tensor `b` with shape `(64,)`, doing `a/b` will give you an error because PyTorch will try to do the division across the columns (called broadcasting) but you'll get a size mismatch. The way to think about this is for each of the 64 examples, you only want to divide by one value, the sum in the denominator. So you need `b` to have a shape of `(64, 1)`. This way PyTorch will divide the 10 values in each row of `a` by the one value in each row of `b`. Pay attention to how you take the sum as well. You'll need to define the `dim` keyword in `torch.sum`. Setting `dim=0` takes the sum across the rows while `dim=1` takes the sum across the columns."
   ]
  },
  {
   "cell_type": "code",
   "execution_count": 30,
   "metadata": {},
   "outputs": [
    {
     "name": "stdout",
     "output_type": "stream",
     "text": [
      "tensor([[1.1741e+08],\n",
      "        [6.2168e+06],\n",
      "        [3.6225e+05],\n",
      "        [4.5337e+06],\n",
      "        [1.9896e+08],\n",
      "        [2.1095e+06],\n",
      "        [9.6288e+06],\n",
      "        [6.3475e+04],\n",
      "        [1.2240e+08],\n",
      "        [2.6037e+06],\n",
      "        [1.3085e+10],\n",
      "        [8.9295e+06],\n",
      "        [2.7204e+09],\n",
      "        [4.3329e+06],\n",
      "        [1.8165e+07],\n",
      "        [7.2260e+09],\n",
      "        [8.7559e+10],\n",
      "        [7.1369e+05],\n",
      "        [5.0643e+09],\n",
      "        [3.5992e+11],\n",
      "        [7.1655e+09],\n",
      "        [5.9167e+06],\n",
      "        [8.0827e+07],\n",
      "        [2.2090e+07],\n",
      "        [6.2145e+08],\n",
      "        [5.1088e+08],\n",
      "        [1.8076e+06],\n",
      "        [2.0412e+04],\n",
      "        [3.8631e+07],\n",
      "        [2.5327e+07],\n",
      "        [4.0428e+08],\n",
      "        [1.7531e+08],\n",
      "        [5.8995e+04],\n",
      "        [2.9595e+11],\n",
      "        [5.7883e+08],\n",
      "        [2.9742e+09],\n",
      "        [3.7227e+07],\n",
      "        [1.0516e+06],\n",
      "        [4.1198e+07],\n",
      "        [5.0027e+06],\n",
      "        [5.2231e+06],\n",
      "        [2.5008e+08],\n",
      "        [6.0365e+08],\n",
      "        [4.8533e+07],\n",
      "        [1.1514e+09],\n",
      "        [1.3950e+08],\n",
      "        [9.5814e+09],\n",
      "        [3.6433e+07],\n",
      "        [3.7706e+05],\n",
      "        [1.1475e+07],\n",
      "        [4.2583e+08],\n",
      "        [2.0646e+07],\n",
      "        [3.8637e+07],\n",
      "        [4.9310e+07],\n",
      "        [4.7940e+09],\n",
      "        [4.7598e+09],\n",
      "        [4.3449e+04],\n",
      "        [1.9705e+04],\n",
      "        [3.6616e+06],\n",
      "        [1.3527e+06],\n",
      "        [2.1231e+06],\n",
      "        [2.4814e+07],\n",
      "        [3.6735e+08],\n",
      "        [2.6150e+05]])\n",
      "torch.Size([64, 10])\n",
      "tensor([1.0000, 1.0000, 1.0000, 1.0000, 1.0000, 1.0000, 1.0000, 1.0000, 1.0000,\n",
      "        1.0000, 1.0000, 1.0000, 1.0000, 1.0000, 1.0000, 1.0000, 1.0000, 1.0000,\n",
      "        1.0000, 1.0000, 1.0000, 1.0000, 1.0000, 1.0000, 1.0000, 1.0000, 1.0000,\n",
      "        1.0000, 1.0000, 1.0000, 1.0000, 1.0000, 1.0000, 1.0000, 1.0000, 1.0000,\n",
      "        1.0000, 1.0000, 1.0000, 1.0000, 1.0000, 1.0000, 1.0000, 1.0000, 1.0000,\n",
      "        1.0000, 1.0000, 1.0000, 1.0000, 1.0000, 1.0000, 1.0000, 1.0000, 1.0000,\n",
      "        1.0000, 1.0000, 1.0000, 1.0000, 1.0000, 1.0000, 1.0000, 1.0000, 1.0000,\n",
      "        1.0000])\n"
     ]
    }
   ],
   "source": [
    "def softmax(x):\n",
    "    ## TODO: Implement the softmax function here\n",
    "    return torch.exp(x)/torch.sum(torch.exp(x),dim=1).view(-1,1)\n",
    "\n",
    "# Here, out should be the output of the network in the previous excercise with shape (64,10)\n",
    "probabilities = softmax(out)\n",
    "# y=torch.sum(torch.exp(out),dim=1).view(-1,1)\n",
    "print(y)\n",
    "\n",
    "# Does it have the right shape? Should be (64, 10)\n",
    "print(probabilities.shape)\n",
    "# Does it sum to 1?\n",
    "print(probabilities.sum(dim=1))"
   ]
  },
  {
   "cell_type": "markdown",
   "metadata": {},
   "source": [
    "## Building networks with PyTorch\n",
    "\n",
    "PyTorch provides a module `nn` that makes building networks much simpler. Here I'll show you how to build the same one as above with 784 inputs, 256 hidden units, 10 output units and a softmax output."
   ]
  },
  {
   "cell_type": "code",
   "execution_count": null,
   "metadata": {
    "collapsed": true
   },
   "outputs": [],
   "source": [
    "from torch import nn"
   ]
  },
  {
   "cell_type": "code",
   "execution_count": null,
   "metadata": {
    "collapsed": true
   },
   "outputs": [],
   "source": [
    "class Network(nn.Module):\n",
    "    def __init__(self):\n",
    "        super().__init__()\n",
    "        \n",
    "        # Inputs to hidden layer linear transformation\n",
    "        self.hidden = nn.Linear(784, 256)\n",
    "        # Output layer, 10 units - one for each digit\n",
    "        self.output = nn.Linear(256, 10)\n",
    "        \n",
    "        # Define sigmoid activation and softmax output \n",
    "        self.sigmoid = nn.Sigmoid()\n",
    "        self.softmax = nn.Softmax(dim=1)\n",
    "        \n",
    "    def forward(self, x):\n",
    "        # Pass the input tensor through each of our operations\n",
    "        x = self.hidden(x)\n",
    "        x = self.sigmoid(x)\n",
    "        x = self.output(x)\n",
    "        x = self.softmax(x)\n",
    "        \n",
    "        return x"
   ]
  },
  {
   "cell_type": "markdown",
   "metadata": {},
   "source": [
    "Let's go through this bit by bit.\n",
    "\n",
    "```python\n",
    "class Network(nn.Module):\n",
    "```\n",
    "\n",
    "Here we're inheriting from `nn.Module`. Combined with `super().__init__()` this creates a class that tracks the architecture and provides a lot of useful methods and attributes. It is mandatory to inherit from `nn.Module` when you're creating a class for your network. The name of the class itself can be anything.\n",
    "\n",
    "```python\n",
    "self.hidden = nn.Linear(784, 256)\n",
    "```\n",
    "\n",
    "This line creates a module for a linear transformation, $x\\mathbf{W} + b$, with 784 inputs and 256 outputs and assigns it to `self.hidden`. The module automatically creates the weight and bias tensors which we'll use in the `forward` method. You can access the weight and bias tensors once the network (`net`) is created with `net.hidden.weight` and `net.hidden.bias`.\n",
    "\n",
    "```python\n",
    "self.output = nn.Linear(256, 10)\n",
    "```\n",
    "\n",
    "Similarly, this creates another linear transformation with 256 inputs and 10 outputs.\n",
    "\n",
    "```python\n",
    "self.sigmoid = nn.Sigmoid()\n",
    "self.softmax = nn.Softmax(dim=1)\n",
    "```\n",
    "\n",
    "Here I defined operations for the sigmoid activation and softmax output. Setting `dim=1` in `nn.Softmax(dim=1)` calculates softmax across the columns.\n",
    "\n",
    "```python\n",
    "def forward(self, x):\n",
    "```\n",
    "\n",
    "PyTorch networks created with `nn.Module` must have a `forward` method defined. It takes in a tensor `x` and passes it through the operations you defined in the `__init__` method.\n",
    "\n",
    "```python\n",
    "x = self.hidden(x)\n",
    "x = self.sigmoid(x)\n",
    "x = self.output(x)\n",
    "x = self.softmax(x)\n",
    "```\n",
    "\n",
    "Here the input tensor `x` is passed through each operation and reassigned to `x`. We can see that the input tensor goes through the hidden layer, then a sigmoid function, then the output layer, and finally the softmax function. It doesn't matter what you name the variables here, as long as the inputs and outputs of the operations match the network architecture you want to build. The order in which you define things in the `__init__` method doesn't matter, but you'll need to sequence the operations correctly in the `forward` method.\n",
    "\n",
    "Now we can create a `Network` object."
   ]
  },
  {
   "cell_type": "code",
   "execution_count": null,
   "metadata": {
    "collapsed": true
   },
   "outputs": [],
   "source": [
    "# Create the network and look at it's text representation\n",
    "model = Network()\n",
    "model"
   ]
  },
  {
   "cell_type": "markdown",
   "metadata": {},
   "source": [
    "You can define the network somewhat more concisely and clearly using the `torch.nn.functional` module. This is the most common way you'll see networks defined as many operations are simple element-wise functions. We normally import this module as `F`, `import torch.nn.functional as F`."
   ]
  },
  {
   "cell_type": "code",
   "execution_count": null,
   "metadata": {
    "collapsed": true
   },
   "outputs": [],
   "source": [
    "import torch.nn.functional as F\n",
    "\n",
    "class Network(nn.Module):\n",
    "    def __init__(self):\n",
    "        super().__init__()\n",
    "        # Inputs to hidden layer linear transformation\n",
    "        self.hidden = nn.Linear(784, 256)\n",
    "        # Output layer, 10 units - one for each digit\n",
    "        self.output = nn.Linear(256, 10)\n",
    "        \n",
    "    def forward(self, x):\n",
    "        # Hidden layer with sigmoid activation\n",
    "        x = F.sigmoid(self.hidden(x))\n",
    "        # Output layer with softmax activation\n",
    "        x = F.softmax(self.output(x), dim=1)\n",
    "        \n",
    "        return x"
   ]
  },
  {
   "cell_type": "markdown",
   "metadata": {},
   "source": [
    "### Activation functions\n",
    "\n",
    "So far we've only been looking at the sigmoid activation function, but in general any function can be used as an activation function. The only requirement is that for a network to approximate a non-linear function, the activation functions must be non-linear. Here are a few more examples of common activation functions: Tanh (hyperbolic tangent), and ReLU (rectified linear unit).\n",
    "\n",
    "<img src=\"assets/activation.png\" width=700px>\n",
    "\n",
    "In practice, the ReLU function is used almost exclusively as the activation function for hidden layers."
   ]
  },
  {
   "cell_type": "markdown",
   "metadata": {},
   "source": [
    "### Your Turn to Build a Network\n",
    "\n",
    "<img src=\"assets/mlp_mnist.png\" width=600px>\n",
    "\n",
    "> **Exercise:** Create a network with 784 input units, a hidden layer with 128 units and a ReLU activation, then a hidden layer with 64 units and a ReLU activation, and finally an output layer with a softmax activation as shown above. You can use a ReLU activation with the `nn.ReLU` module or `F.relu` function.\n",
    "\n",
    "It's good practice to name your layers by their type of network, for instance 'fc' to represent a fully-connected layer. As you code your solution, use `fc1`, `fc2`, and `fc3` as your layer names."
   ]
  },
  {
   "cell_type": "code",
   "execution_count": null,
   "metadata": {
    "collapsed": true,
    "scrolled": true
   },
   "outputs": [],
   "source": [
    "## Your solution here\n",
    "w1=torch.randn(784,128)\n",
    "b1\n"
   ]
  },
  {
   "cell_type": "markdown",
   "metadata": {},
   "source": [
    "### Initializing weights and biases\n",
    "\n",
    "The weights and such are automatically initialized for you, but it's possible to customize how they are initialized. The weights and biases are tensors attached to the layer you defined, you can get them with `model.fc1.weight` for instance."
   ]
  },
  {
   "cell_type": "code",
   "execution_count": null,
   "metadata": {
    "collapsed": true
   },
   "outputs": [],
   "source": [
    "print(model.fc1.weight)\n",
    "print(model.fc1.bias)"
   ]
  },
  {
   "cell_type": "markdown",
   "metadata": {},
   "source": [
    "For custom initialization, we want to modify these tensors in place. These are actually autograd *Variables*, so we need to get back the actual tensors with `model.fc1.weight.data`. Once we have the tensors, we can fill them with zeros (for biases) or random normal values."
   ]
  },
  {
   "cell_type": "code",
   "execution_count": null,
   "metadata": {
    "collapsed": true
   },
   "outputs": [],
   "source": [
    "# Set biases to all zeros\n",
    "model.fc1.bias.data.fill_(0)"
   ]
  },
  {
   "cell_type": "code",
   "execution_count": null,
   "metadata": {
    "collapsed": true
   },
   "outputs": [],
   "source": [
    "# sample from random normal with standard dev = 0.01\n",
    "model.fc1.weight.data.normal_(std=0.01)"
   ]
  },
  {
   "cell_type": "markdown",
   "metadata": {},
   "source": [
    "### Forward pass\n",
    "\n",
    "Now that we have a network, let's see what happens when we pass in an image."
   ]
  },
  {
   "cell_type": "code",
   "execution_count": null,
   "metadata": {
    "collapsed": true
   },
   "outputs": [],
   "source": [
    "# Grab some data \n",
    "dataiter = iter(trainloader)\n",
    "images, labels = dataiter.next()\n",
    "\n",
    "# Resize images into a 1D vector, new shape is (batch size, color channels, image pixels) \n",
    "images.resize_(64, 1, 784)\n",
    "# or images.resize_(images.shape[0], 1, 784) to automatically get batch size\n",
    "\n",
    "# Forward pass through the network\n",
    "img_idx = 0\n",
    "ps = model.forward(images[img_idx,:])\n",
    "\n",
    "img = images[img_idx]\n",
    "helper.view_classify(img.view(1, 28, 28), ps)"
   ]
  },
  {
   "cell_type": "markdown",
   "metadata": {},
   "source": [
    "As you can see above, our network has basically no idea what this digit is. It's because we haven't trained it yet, all the weights are random!\n",
    "\n",
    "### Using `nn.Sequential`\n",
    "\n",
    "PyTorch provides a convenient way to build networks like this where a tensor is passed sequentially through operations, `nn.Sequential` ([documentation](https://pytorch.org/docs/master/nn.html#torch.nn.Sequential)). Using this to build the equivalent network:"
   ]
  },
  {
   "cell_type": "code",
   "execution_count": 21,
   "metadata": {},
   "outputs": [
    {
     "ename": "NameError",
     "evalue": "name 'nn' is not defined",
     "output_type": "error",
     "traceback": [
      "\u001b[1;31m---------------------------------------------------------------------------\u001b[0m",
      "\u001b[1;31mNameError\u001b[0m                                 Traceback (most recent call last)",
      "\u001b[1;32m<ipython-input-21-2efaf9529135>\u001b[0m in \u001b[0;36m<module>\u001b[1;34m\u001b[0m\n\u001b[0;32m      5\u001b[0m \u001b[1;33m\u001b[0m\u001b[0m\n\u001b[0;32m      6\u001b[0m \u001b[1;31m# Build a feed-forward network\u001b[0m\u001b[1;33m\u001b[0m\u001b[1;33m\u001b[0m\u001b[1;33m\u001b[0m\u001b[0m\n\u001b[1;32m----> 7\u001b[1;33m model = nn.Sequential(nn.Linear(input_size, hidden_sizes[0]),\n\u001b[0m\u001b[0;32m      8\u001b[0m                       \u001b[0mnn\u001b[0m\u001b[1;33m.\u001b[0m\u001b[0mReLU\u001b[0m\u001b[1;33m(\u001b[0m\u001b[1;33m)\u001b[0m\u001b[1;33m,\u001b[0m\u001b[1;33m\u001b[0m\u001b[1;33m\u001b[0m\u001b[0m\n\u001b[0;32m      9\u001b[0m                       \u001b[0mnn\u001b[0m\u001b[1;33m.\u001b[0m\u001b[0mLinear\u001b[0m\u001b[1;33m(\u001b[0m\u001b[0mhidden_sizes\u001b[0m\u001b[1;33m[\u001b[0m\u001b[1;36m0\u001b[0m\u001b[1;33m]\u001b[0m\u001b[1;33m,\u001b[0m \u001b[0mhidden_sizes\u001b[0m\u001b[1;33m[\u001b[0m\u001b[1;36m1\u001b[0m\u001b[1;33m]\u001b[0m\u001b[1;33m)\u001b[0m\u001b[1;33m,\u001b[0m\u001b[1;33m\u001b[0m\u001b[1;33m\u001b[0m\u001b[0m\n",
      "\u001b[1;31mNameError\u001b[0m: name 'nn' is not defined"
     ]
    }
   ],
   "source": [
    "# Hyperparameters for our network\n",
    "input_size = 784\n",
    "hidden_sizes = [128, 64]\n",
    "output_size = 10\n",
    "\n",
    "# Build a feed-forward network\n",
    "model = nn.Sequential(nn.Linear(input_size, hidden_sizes[0]),\n",
    "                      nn.ReLU(),\n",
    "                      nn.Linear(hidden_sizes[0], hidden_sizes[1]),\n",
    "                      nn.ReLU(),\n",
    "                      nn.Linear(hidden_sizes[1], output_size),\n",
    "                      nn.Softmax(dim=1))\n",
    "print(model)\n",
    "\n",
    "# Forward pass through the network and display output\n",
    "images, labels = next(iter(trainloader))\n",
    "images.resize_(images.shape[0], 1, 784)\n",
    "ps = model.forward(images[0,:])\n",
    "helper.view_classify(images[0].view(1, 28, 28), ps)"
   ]
  },
  {
   "cell_type": "markdown",
   "metadata": {},
   "source": [
    "Here our model is the same as before: 784 input units, a hidden layer with 128 units, ReLU activation, 64 unit hidden layer, another ReLU, then the output layer with 10 units, and the softmax output.\n",
    "\n",
    "The operations are available by passing in the appropriate index. For example, if you want to get first Linear operation and look at the weights, you'd use `model[0]`."
   ]
  },
  {
   "cell_type": "code",
   "execution_count": null,
   "metadata": {
    "collapsed": true
   },
   "outputs": [],
   "source": [
    "print(model[0])\n",
    "model[0].weight"
   ]
  },
  {
   "cell_type": "markdown",
   "metadata": {},
   "source": [
    "You can also pass in an `OrderedDict` to name the individual layers and operations, instead of using incremental integers. Note that dictionary keys must be unique, so _each operation must have a different name_."
   ]
  },
  {
   "cell_type": "code",
   "execution_count": null,
   "metadata": {
    "collapsed": true
   },
   "outputs": [],
   "source": [
    "from collections import OrderedDict\n",
    "model = nn.Sequential(OrderedDict([\n",
    "                      ('fc1', nn.Linear(input_size, hidden_sizes[0])),\n",
    "                      ('relu1', nn.ReLU()),\n",
    "                      ('fc2', nn.Linear(hidden_sizes[0], hidden_sizes[1])),\n",
    "                      ('relu2', nn.ReLU()),\n",
    "                      ('output', nn.Linear(hidden_sizes[1], output_size)),\n",
    "                      ('softmax', nn.Softmax(dim=1))]))\n",
    "model"
   ]
  },
  {
   "cell_type": "markdown",
   "metadata": {},
   "source": [
    "Now you can access layers either by integer or the name"
   ]
  },
  {
   "cell_type": "code",
   "execution_count": null,
   "metadata": {
    "collapsed": true
   },
   "outputs": [],
   "source": [
    "print(model[0])\n",
    "print(model.fc1)"
   ]
  },
  {
   "cell_type": "markdown",
   "metadata": {},
   "source": [
    "In the next notebook, we'll see how we can train a neural network to accuractly predict the numbers appearing in the MNIST images."
   ]
  }
 ],
 "metadata": {
  "kernelspec": {
   "display_name": "Python 3",
   "language": "python",
   "name": "python3"
  },
  "language_info": {
   "codemirror_mode": {
    "name": "ipython",
    "version": 3
   },
   "file_extension": ".py",
   "mimetype": "text/x-python",
   "name": "python",
   "nbconvert_exporter": "python",
   "pygments_lexer": "ipython3",
   "version": "3.7.3"
  }
 },
 "nbformat": 4,
 "nbformat_minor": 2
}
